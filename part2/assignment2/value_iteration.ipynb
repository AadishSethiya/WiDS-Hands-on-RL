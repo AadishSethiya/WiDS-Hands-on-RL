{
 "cells": [
  {
   "cell_type": "code",
   "execution_count": 118,
   "id": "68cd5aa8",
   "metadata": {},
   "outputs": [],
   "source": [
    "filename = 'mdp-2-2.txt'\n",
    "file = open(filename,'r')\n",
    "lines = file.readlines()\n",
    "num_states = 0\n",
    "num_actions = 0\n",
    "gamma = 0\n",
    "states = []\n",
    "actions = []\n",
    "for line in lines:\n",
    "    if 'states' in line:\n",
    "        num_states = eval(line.split()[1].strip())\n",
    "        states = [i for i in range(num_states)]\n",
    "    elif 'actions' in line:\n",
    "        num_actions = eval(line.split()[1].strip())\n",
    "        actions = [i for i in range(num_actions)]\n",
    "        rp = [[[(0,0) for i in range(num_states)] for j in range(num_actions)] for k in range(num_states)]\n",
    "    elif 'gamma' in line:\n",
    "        gamma = eval(line.split()[1])\n",
    "    elif 'tran' in line:\n",
    "        val = line.split()[1:]\n",
    "        rp[eval(val[0])][eval(val[1])][eval(val[2])] = (eval(val[3]),eval(val[4]))\n",
    "#         print(eval(val[0]),eval(val[1]),eval(val[2]))\n",
    "file.close()"
   ]
  },
  {
   "cell_type": "code",
   "execution_count": 119,
   "id": "58ce64ee",
   "metadata": {},
   "outputs": [],
   "source": [
    "V = [0 for i in range(num_states)]\n",
    "ep = pow(10,-10)\n",
    "pi = [0 for i in range(num_states)]\n",
    "while True:\n",
    "    delta = 0\n",
    "    for s in states:\n",
    "        temp = V[s]\n",
    "        for a in actions:\n",
    "            v = 0\n",
    "            for s0 in states:\n",
    "                v = v + rp[s][a][s0][1]*(rp[s][a][s0][0] + gamma*V[s0])\n",
    "#             print(s,a,s0,v)\n",
    "            V[s] = max(V[s],v)\n",
    "        delta = max(delta,abs(temp - V[s]))\n",
    "    if delta < ep:\n",
    "        break\n",
    "for s in states:\n",
    "    a_max = 0\n",
    "    v_max = 0\n",
    "    for a in actions:\n",
    "        v = 0\n",
    "        for s0 in states:\n",
    "            v = v + rp[s][a][s0][1]*(rp[s][a][s0][0] + gamma*V[s0])\n",
    "        if v > v_max:\n",
    "            a_max = a\n",
    "            v_max = v\n",
    "    pi[s] = a_max"
   ]
  },
  {
   "cell_type": "code",
   "execution_count": 120,
   "id": "9f8227bb",
   "metadata": {},
   "outputs": [],
   "source": [
    "file = open('sol-vi-'+filename,'w')\n",
    "lines = []\n",
    "for s in states:\n",
    "    lines.append(f\"{'{:.6f}'.format(round(V[s],6))} {pi[s]}\\n\")\n",
    "file.writelines(lines)\n",
    "file.close()"
   ]
  }
 ],
 "metadata": {
  "kernelspec": {
   "display_name": "Python 3 (ipykernel)",
   "language": "python",
   "name": "python3"
  },
  "language_info": {
   "codemirror_mode": {
    "name": "ipython",
    "version": 3
   },
   "file_extension": ".py",
   "mimetype": "text/x-python",
   "name": "python",
   "nbconvert_exporter": "python",
   "pygments_lexer": "ipython3",
   "version": "3.9.13"
  }
 },
 "nbformat": 4,
 "nbformat_minor": 5
}
