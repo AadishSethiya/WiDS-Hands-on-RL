{
 "cells": [
  {
   "cell_type": "code",
   "execution_count": 9,
   "id": "edcb2f6b",
   "metadata": {},
   "outputs": [],
   "source": [
    "filename = 'mdp-10-5.txt'\n",
    "file = open(filename,'r')\n",
    "lines = file.readlines()\n",
    "num_states = 0\n",
    "num_actions = 0\n",
    "gamma = 0\n",
    "states = []\n",
    "actions = []\n",
    "for line in lines:\n",
    "    if 'states' in line:\n",
    "        num_states = eval(line.split()[1].strip())\n",
    "        states = [i for i in range(num_states)]\n",
    "    elif 'actions' in line:\n",
    "        num_actions = eval(line.split()[1].strip())\n",
    "        actions = [i for i in range(num_actions)]\n",
    "        rp = [[[(0,0) for i in range(num_states)] for j in range(num_actions)] for k in range(num_states)]\n",
    "    elif 'gamma' in line:\n",
    "        gamma = eval(line.split()[1])\n",
    "    elif 'tran' in line:\n",
    "        val = line.split()[1:]\n",
    "        rp[eval(val[0])][eval(val[1])][eval(val[2])] = (eval(val[3]),eval(val[4]))\n",
    "#         print(eval(val[0]),eval(val[1]),eval(val[2]))\n",
    "file.close()"
   ]
  },
  {
   "cell_type": "code",
   "execution_count": 10,
   "id": "1438cf5a",
   "metadata": {},
   "outputs": [
    {
     "ename": "KeyboardInterrupt",
     "evalue": "",
     "output_type": "error",
     "traceback": [
      "\u001b[1;31m---------------------------------------------------------------------------\u001b[0m",
      "\u001b[1;31mKeyboardInterrupt\u001b[0m                         Traceback (most recent call last)",
      "\u001b[1;32m~\\AppData\\Local\\Temp\\ipykernel_23164\\1557460392.py\u001b[0m in \u001b[0;36m<module>\u001b[1;34m\u001b[0m\n\u001b[0;32m     11\u001b[0m                 \u001b[0mv\u001b[0m \u001b[1;33m=\u001b[0m \u001b[1;36m0\u001b[0m\u001b[1;33m\u001b[0m\u001b[1;33m\u001b[0m\u001b[0m\n\u001b[0;32m     12\u001b[0m                 \u001b[1;32mfor\u001b[0m \u001b[0ms0\u001b[0m \u001b[1;32min\u001b[0m \u001b[0mstates\u001b[0m\u001b[1;33m:\u001b[0m\u001b[1;33m\u001b[0m\u001b[1;33m\u001b[0m\u001b[0m\n\u001b[1;32m---> 13\u001b[1;33m                     \u001b[0mv\u001b[0m \u001b[1;33m=\u001b[0m \u001b[0mv\u001b[0m \u001b[1;33m+\u001b[0m \u001b[0mrp\u001b[0m\u001b[1;33m[\u001b[0m\u001b[0ms\u001b[0m\u001b[1;33m]\u001b[0m\u001b[1;33m[\u001b[0m\u001b[0ma\u001b[0m\u001b[1;33m]\u001b[0m\u001b[1;33m[\u001b[0m\u001b[0ms0\u001b[0m\u001b[1;33m]\u001b[0m\u001b[1;33m[\u001b[0m\u001b[1;36m1\u001b[0m\u001b[1;33m]\u001b[0m\u001b[1;33m*\u001b[0m\u001b[1;33m(\u001b[0m\u001b[0mrp\u001b[0m\u001b[1;33m[\u001b[0m\u001b[0ms\u001b[0m\u001b[1;33m]\u001b[0m\u001b[1;33m[\u001b[0m\u001b[0ma\u001b[0m\u001b[1;33m]\u001b[0m\u001b[1;33m[\u001b[0m\u001b[0ms0\u001b[0m\u001b[1;33m]\u001b[0m\u001b[1;33m[\u001b[0m\u001b[1;36m0\u001b[0m\u001b[1;33m]\u001b[0m \u001b[1;33m+\u001b[0m \u001b[0mgamma\u001b[0m\u001b[1;33m*\u001b[0m\u001b[0mV\u001b[0m\u001b[1;33m[\u001b[0m\u001b[0ms0\u001b[0m\u001b[1;33m]\u001b[0m\u001b[1;33m)\u001b[0m\u001b[1;33m\u001b[0m\u001b[1;33m\u001b[0m\u001b[0m\n\u001b[0m\u001b[0;32m     14\u001b[0m     \u001b[1;31m#             print(s,a,s0,v)\u001b[0m\u001b[1;33m\u001b[0m\u001b[1;33m\u001b[0m\u001b[0m\n\u001b[0;32m     15\u001b[0m                 \u001b[0mV\u001b[0m\u001b[1;33m[\u001b[0m\u001b[0ms\u001b[0m\u001b[1;33m]\u001b[0m \u001b[1;33m=\u001b[0m \u001b[0mmax\u001b[0m\u001b[1;33m(\u001b[0m\u001b[0mV\u001b[0m\u001b[1;33m[\u001b[0m\u001b[0ms\u001b[0m\u001b[1;33m]\u001b[0m\u001b[1;33m,\u001b[0m\u001b[0mv\u001b[0m\u001b[1;33m)\u001b[0m\u001b[1;33m\u001b[0m\u001b[1;33m\u001b[0m\u001b[0m\n",
      "\u001b[1;31mKeyboardInterrupt\u001b[0m: "
     ]
    }
   ],
   "source": [
    "V = [0 for i in range(num_states)]\n",
    "pi = [0 for i in range(num_states)]\n",
    "ep = pow(10,-10)\n",
    "converge = False\n",
    "while True:\n",
    "    while True:\n",
    "        delta = 0\n",
    "        for s in states:\n",
    "            temp = V[s]\n",
    "            for a in actions:\n",
    "                v = 0\n",
    "                for s0 in states:\n",
    "                    v = v + rp[s][a][s0][1]*(rp[s][a][s0][0] + gamma*V[s0])\n",
    "    #             print(s,a,s0,v)\n",
    "                V[s] = max(V[s],v)\n",
    "            delta = max(delta,abs(temp - V[s]))\n",
    "        if delta < ep:\n",
    "            break\n",
    "        same = True\n",
    "    for s in states:\n",
    "        temp = pi[s]\n",
    "        a_max = 0\n",
    "        v_max = 0\n",
    "        for a in actions:\n",
    "            v = 0\n",
    "            for s0 in states:\n",
    "                v = v + rp[s][a][s0][1]*(rp[s][a][s0][0] + gamma*V[s0])\n",
    "            if v > v_max:\n",
    "                a_max = a\n",
    "                v_max = v\n",
    "        pi[s] = a_max\n",
    "        if pi[s] != temp:\n",
    "            same = False\n",
    "    if same:\n",
    "        break"
   ]
  },
  {
   "cell_type": "code",
   "execution_count": 8,
   "id": "4e099dbb",
   "metadata": {},
   "outputs": [],
   "source": [
    "file = open('sol-pi-'+filename,'w')\n",
    "lines = []\n",
    "for s in states:\n",
    "    lines.append(f\"{'{:.6f}'.format(round(V[s],6))} {pi[s]}\\n\")\n",
    "file.writelines(lines)\n",
    "file.close()"
   ]
  }
 ],
 "metadata": {
  "kernelspec": {
   "display_name": "Python 3 (ipykernel)",
   "language": "python",
   "name": "python3"
  },
  "language_info": {
   "codemirror_mode": {
    "name": "ipython",
    "version": 3
   },
   "file_extension": ".py",
   "mimetype": "text/x-python",
   "name": "python",
   "nbconvert_exporter": "python",
   "pygments_lexer": "ipython3",
   "version": "3.9.13"
  }
 },
 "nbformat": 4,
 "nbformat_minor": 5
}
