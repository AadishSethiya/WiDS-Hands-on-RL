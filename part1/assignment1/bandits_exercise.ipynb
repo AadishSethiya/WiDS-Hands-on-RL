{
 "cells": [
  {
   "cell_type": "code",
   "execution_count": 1,
   "metadata": {},
   "outputs": [],
   "source": [
    "import numpy as np \n",
    "import math \n",
    "import matplotlib.pyplot as plt \n",
    "from bandits import bandit\n",
    "from multiprocessing import Pool"
   ]
  },
  {
   "cell_type": "code",
   "execution_count": 2,
   "metadata": {},
   "outputs": [],
   "source": [
    "class Algorithm:\n",
    "    def __init__(self, num_arms):\n",
    "        self.num_arms = num_arms\n",
    "    \n",
    "    def give_pull(self):\n",
    "        raise NotImplementedError\n",
    "    \n",
    "    def get_reward(self, arm_index, reward):\n",
    "        raise NotImplementedError"
   ]
  },
  {
   "cell_type": "markdown",
   "metadata": {},
   "source": [
    "## $\\epsilon$-greedy algorithms\n",
    "\n",
    "There are different variants of $\\epsilon$-greedy algorithms, which illustrate the ideas of exploration and exploitation in reinforcement learning. Here, you are to implement an algorithm which explores with probability $\\epsilon$ and exploits with probability $1-\\epsilon$. Wherein, exploration means uniformly sampling from the list of arms, and exploitation is the act of sampling the arm with the highest empirical mean. \n",
    "\n",
    "The algorithm needs to be implemented as a class which has three functions: \n",
    "- Initialization: Initialize all the data structures (including your $\\epsilon$) here. \n",
    "- Pull: Return the index of the arm that needs to be pulled as per this algorithm. \n",
    "- Get reward: The bandit instance will tell you the reward -- this function needs to update the internal data structures of the algorithm so as to process that reward."
   ]
  },
  {
   "cell_type": "code",
   "execution_count": 3,
   "metadata": {},
   "outputs": [
    {
     "data": {
      "text/plain": [
       "0.42162057871606284"
      ]
     },
     "execution_count": 3,
     "metadata": {},
     "output_type": "execute_result"
    }
   ],
   "source": [
    "n = 10\n",
    "a = np.zeros(n)\n",
    "for i in range(n):\n",
    "    a[i] = i+1\n",
    "e = np.random.rand()\n",
    "e"
   ]
  },
  {
   "cell_type": "code",
   "execution_count": 4,
   "metadata": {},
   "outputs": [],
   "source": [
    "# Implement the epsilon greedy algorithm \n",
    "# as a child class of the Algorithm class\n",
    "class eps_greedy(Algorithm):\n",
    "    def __init__(self,num_arms):\n",
    "        super().__init__(num_arms)\n",
    "        # write the necessary data structures \n",
    "        self.epsilon = 0.1\n",
    "        self.arms = np.zeros(num_arms)\n",
    "        self.freq = np.zeros(num_arms)\n",
    "\n",
    "    def give_pull(self):\n",
    "        # write the code to give a pull via the epsilon greedy algo \n",
    "#         p = np.random.binomial(1,self.epsilon)\n",
    "        p = np.random.rand()\n",
    "        if p <= self.epsilon:\n",
    "            index = np.random.randint(self.num_arms)\n",
    "#             self.freq[index] += 1\n",
    "            return index\n",
    "        else:\n",
    "            index = np.argmax(self.arms)\n",
    "#             self.freq[index] += 1\n",
    "            return index\n",
    "    \n",
    "    def get_reward(self,index,reward):\n",
    "        # update the data structures based on the reward received\n",
    "        self.freq[index] += 1\n",
    "        self.arms[index] = self.arms[index] + (float(reward - self.arms[index]))/self.freq[index]\n",
    "        "
   ]
  },
  {
   "cell_type": "markdown",
   "metadata": {},
   "source": [
    "## UCB Algorithm\n",
    "\n",
    "Read about the UCB algorithm from Sutton and Barto, and implement it in the exact same format as the previous one. The operation to be performed is, \n",
    "\n",
    "$$a_t := \\argmax_{a\\in A}(q_t(a) + 3\\sqrt{\\frac{ln(t)}{N_t(a)}})$$"
   ]
  },
  {
   "cell_type": "code",
   "execution_count": 5,
   "metadata": {},
   "outputs": [],
   "source": [
    "# Implement the UCB algorithm\n",
    "class UCB(Algorithm):\n",
    "    def __init__(self, num_arms):\n",
    "        super().__init__(num_arms)\n",
    "        # write the necessary data structures here\n",
    "        self.arms = np.zeros(num_arms)\n",
    "        self.freq = np.zeros(num_arms)\n",
    "        self.t = 0\n",
    "    \n",
    "    def give_pull(self):\n",
    "        # write the code to give a pull via the epsilon greedy algo\n",
    "        self.t += 1\n",
    "        l = np.where(self.freq == 0)[0]\n",
    "        if len(l) != 0:\n",
    "            self.freq[l[0]] += 1\n",
    "            return l[0]\n",
    "        else:\n",
    "            index = 0\n",
    "            for i in range(self.num_arms):    \n",
    "                if self.arms[i] + 3*math.sqrt(math.log(self.t)/self.freq[i]) > self.arms[index] + 3*math.sqrt(math.log(self.t)/self.freq[index]):\n",
    "                    index = i\n",
    "            self.freq[index] += 1\n",
    "            return index\n",
    "    \n",
    "    def get_reward(self,index,reward):\n",
    "        # update the data structures based on the reward received\n",
    "        self.arms[index] = self.arms[index] + (reward - self.arms[index])/self.freq[index]\n"
   ]
  },
  {
   "cell_type": "markdown",
   "metadata": {},
   "source": [
    "## Thompson Sampling\n",
    "\n",
    "This is another algorithm for sampling/pulling a MAB. Here, a list of successes ($s_t(a)$) and failures ($f_t(a)$) of the arms is maintained, and then the following samples are drawn for each arm, \n",
    "\n",
    "$$n_t(a) \\sim \\beta(s_t(a) +1,f_t(a)+1)$$\n",
    "\n",
    "where $\\beta$ denote the Beta Distribution. Then, the arm with the highest value of such a sample is chosen. That is, \n",
    " \n",
    "$$a_t := \\argmax_{a\\in A}n_t(a)$$\n",
    "\n",
    "In the background, a _bayesian_ update is happening, which ensures that this algorithm works well. \n",
    "\n",
    "The code for this algorithm is already written, and you can use this as a reference for the structure of the other two."
   ]
  },
  {
   "cell_type": "code",
   "execution_count": 6,
   "metadata": {},
   "outputs": [],
   "source": [
    "class Thompson_Sampling(Algorithm):\n",
    "    def __init__(self, num_arms):\n",
    "        super().__init__(num_arms)\n",
    "        #we write the required data structures for this algorithms\n",
    "        self.successes = np.zeros(num_arms)\n",
    "        self.failures = np.zeros(num_arms)\n",
    "    \n",
    "    def give_pull(self):\n",
    "        # we give a rule according to the algorithm to sample the bandit instance\n",
    "        beta = [np.random.beta(self.successes[bandit]+1,self.failures[bandit] +1) for bandit in range(self.num_arms)]\n",
    "        return np.argmax(beta)\n",
    "    \n",
    "    def get_reward(self, arm_index, reward):\n",
    "        # we update the data structures as we see the reward received\n",
    "        self.successes[arm_index] += reward\n",
    "        self.failures[arm_index] += (1-reward)\n"
   ]
  },
  {
   "cell_type": "markdown",
   "metadata": {},
   "source": [
    "## Analysis\n",
    "\n",
    "Here, code for the analysis of the thompson algorithm is written. Mainly, we use the _regret_ for analyzing the performance of an algorithm. The (expected cumulative) regret is the difference between the maximum possible reward and the expected reward from the algorithm. That is, \n",
    "\n",
    "$$R(T) := Tp^* - \\sum_{t=0}^{T-1}\\mathbb{E}(r_t)$$\n",
    "\n",
    "where, $r_t$ is the reward at time $t\\in\\{0,1,...T-1\\}$. \n",
    "\n",
    "We say that an algorithm here is 'good' if the regret is sub-linear, that is, \n",
    "$$\\lim_{T\\to\\infty}\\frac{R(T)}{T} = 0$$\n",
    "\n",
    "The regret plots, along with the average reward plots for Thompson sampling are given below. Do the same for the other algorithms and compare."
   ]
  },
  {
   "cell_type": "code",
   "execution_count": 7,
   "metadata": {},
   "outputs": [],
   "source": [
    "#no need to modify anything here\n",
    "def plot_avg_reward(algo,horizon,averaging=100):\n",
    "    average_reward = np.zeros(horizon)\n",
    "    for j in range(averaging):\n",
    "        np.random.seed(0)\n",
    "        bandit_instance = bandit([0.2,0.1,0.6,0.1]) # use this bandit instance only\n",
    "        thompson_instance = algo(4) # do this for the other two algorithms as well\n",
    "        rewards = [] \n",
    "        for i in range(horizon):\n",
    "            arm_to_pull = thompson_instance.give_pull() #get the arm to pull _From the ALGORITHM_\n",
    "            reward = bandit_instance.pull(arm_to_pull) #get the (stochastic) reward _from the BANDIT INSTANCE_\n",
    "            thompson_instance.get_reward(arm_to_pull,reward) #update the internal data structures of the algorithm\n",
    "            rewards.append(bandit_instance.avg_reward)\n",
    "        average_reward = average_reward + rewards\n",
    "\n",
    "\n",
    "    average_reward = average_reward/averaging \n",
    "\n",
    "    plt.plot(average_reward)\n",
    "    plt.title(\"Average Reward\")"
   ]
  },
  {
   "cell_type": "code",
   "execution_count": 8,
   "metadata": {},
   "outputs": [
    {
     "data": {
      "text/plain": [
       "<matplotlib.legend.Legend at 0x2075b0515b0>"
      ]
     },
     "execution_count": 8,
     "metadata": {},
     "output_type": "execute_result"
    },
    {
     "data": {
      "image/png": "[encoded data removed]",
      "text/plain": [
       "<Figure size 640x480 with 1 Axes>"
      ]
     },
     "metadata": {},
     "output_type": "display_data"
    }
   ],
   "source": [
    "plot_avg_reward(Thompson_Sampling,1000)\n",
    "plot_avg_reward(eps_greedy,1000) #the eps-greedy code was removed after plotting this, try to write your own and see what kind of plots you get\n",
    "plot_avg_reward(UCB,1000)\n",
    "plt.legend([\"Thomspon\",\"e-greedy\",\"UCB\"])"
   ]
  },
  {
   "cell_type": "code",
   "execution_count": 9,
   "metadata": {},
   "outputs": [],
   "source": [
    "#no need to modify anything here\n",
    "def single_sim(algo, list_of_means, horizon):\n",
    "    np.random.seed(0)\n",
    "    bandit_instance = bandit(list_of_means=list_of_means)\n",
    "    algo_inst = algo(num_arms=len(list_of_means))\n",
    "    for t in range(horizon):\n",
    "      arm_to_be_pulled = algo_inst.give_pull()\n",
    "      reward = bandit_instance.pull(arm_to_be_pulled)\n",
    "      algo_inst.get_reward(arm_index=arm_to_be_pulled, reward=reward)\n",
    "    return bandit_instance.regret\n",
    "\n",
    "def simulate(algorithm, probs, horizon, num_sims=50):\n",
    "\n",
    "    def multiple_sims(num_sims=50):\n",
    "      with Pool(10) as pool:\n",
    "        regrets = pool.starmap(single_sim,\n",
    "          [(algorithm, probs, horizon) for i in range(num_sims)])\n",
    "      return regrets\n",
    "\n",
    "    return np.mean(multiple_sims(num_sims))\n",
    "def plot_regret(algo,list_of_means):  \n",
    "  horizons = []\n",
    "  a = 2**10\n",
    "  for i in range(10,18):\n",
    "    horizons.append(a)\n",
    "    a = a*2\n",
    "#   horizons = [2**i for i in range(10, 18)]\n",
    "  regrets = []\n",
    "  for horizon in horizons:\n",
    "#     print(horizon)\n",
    "    regrets.append(simulate(algo, list_of_means, horizon, 20))\n",
    "\n",
    "  print(regrets)\n",
    "  plt.plot(horizons, regrets)\n",
    "  plt.title(\"Regret vs Horizon\")"
   ]
  },
  {
   "cell_type": "code",
   "execution_count": null,
   "metadata": {},
   "outputs": [],
   "source": [
    "plot_regret(Thompson_Sampling,[0.2,0.1,0.6,0.1])\n",
    "plot_regret(eps_greedy,[0.2,0.1,0.6,0.1])\n",
    "plot_regret(UCB,[0.2,0.1,0.6,0.1])\n",
    "plt.legend([\"Thomspon\",\"e-greedy\",\"UCB\"]) #the eps-greedy code was removed after plotting this, try to write your own and see what kind of plots you get"
   ]
  }
 ],
 "metadata": {
  "kernelspec": {
   "display_name": "Python 3 (ipykernel)",
   "language": "python",
   "name": "python3"
  },
  "language_info": {
   "codemirror_mode": {
    "name": "ipython",
    "version": 3
   },
   "file_extension": ".py",
   "mimetype": "text/x-python",
   "name": "python",
   "nbconvert_exporter": "python",
   "pygments_lexer": "ipython3",
   "version": "3.9.13"
  },
  "vscode": {
   "interpreter": {
    "hash": "e7370f93d1d0cde622a1f8e1c04877d8463912d04d973331ad4851f04de6915a"
   }
  }
 },
 "nbformat": 4,
 "nbformat_minor": 2
}
